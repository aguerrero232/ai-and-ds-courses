{
 "cells": [
  {
   "cell_type": "markdown",
   "metadata": {},
   "source": [
    "# Chapter 2 - Probability"
   ]
  },
  {
   "cell_type": "markdown",
   "metadata": {
    "vscode": {
     "languageId": "plaintext"
    }
   },
   "source": [
    "*Probability* is how strongly we believe an event will happen, often expressed as a\n",
    "percentage. **Remember** that probability is about quantifying predictions of events yet to happen, whereas\n",
    "likelihood is measuring the frequency of events that already occurred."
   ]
  },
  {
   "cell_type": "markdown",
   "metadata": {},
   "source": [
    "## Joint Probabilities\n",
    "\n",
    "Think of a joint probability as an AND operator. "
   ]
  },
  {
   "cell_type": "markdown",
   "metadata": {},
   "source": [
    "Rather than generate all possible combinations and counting the ones of interest to\n",
    "us, we can again use the multiplication as a shortcut to find the joint probability. This\n",
    "is known as the `product rule`"
   ]
  },
  {
   "cell_type": "markdown",
   "metadata": {},
   "source": [
    "P(A AND B) = P(A) X P(B)"
   ]
  },
  {
   "cell_type": "markdown",
   "metadata": {},
   "source": [
    "## Union Probabilities"
   ]
  },
  {
   "cell_type": "markdown",
   "metadata": {},
   "source": [
    "When we deal with OR operations with probabilities, this is known as a union\n",
    "probability."
   ]
  },
  {
   "cell_type": "code",
   "execution_count": 4,
   "metadata": {},
   "outputs": [],
   "source": [
    "from scipy.stats import binom"
   ]
  },
  {
   "cell_type": "markdown",
   "metadata": {},
   "source": [
    "## Conditional Probability and Bayes’ Theorem"
   ]
  },
  {
   "cell_type": "markdown",
   "metadata": {},
   "source": [
    "Bayes’ Theorem = P (A|B) = (P(B|A) * P(A)) / P(B)"
   ]
  },
  {
   "cell_type": "markdown",
   "metadata": {},
   "source": [
    "Example using Bayes’ Theorem in Python"
   ]
  },
  {
   "cell_type": "code",
   "execution_count": 1,
   "metadata": {},
   "outputs": [
    {
     "name": "stdout",
     "output_type": "stream",
     "text": [
      "0.006538461538461539\n"
     ]
    }
   ],
   "source": [
    "p_coffee_drinker = .65\n",
    "p_cancer = .005\n",
    "p_coffee_drinker_given_cancer = .85\n",
    "p_cancer_given_coffee_drinker = (p_coffee_drinker_given_cancer * p_cancer) / p_coffee_drinker\n",
    "# prints 0.006538461538461539\n",
    "print(p_cancer_given_coffee_drinker)"
   ]
  },
  {
   "cell_type": "markdown",
   "metadata": {},
   "source": [
    "# Binomial Distribution"
   ]
  },
  {
   "cell_type": "markdown",
   "metadata": {},
   "source": [
    "Measures how likely k successes can happen out of n trials given p probability."
   ]
  },
  {
   "cell_type": "markdown",
   "metadata": {},
   "source": [
    "### Example Using SciPy for the binomial distribution"
   ]
  },
  {
   "cell_type": "code",
   "execution_count": 7,
   "metadata": {},
   "outputs": [
    {
     "name": "stdout",
     "output_type": "stream",
     "text": [
      "k: 0, probability: 9.999999999999977e-11\n",
      "k: 1, probability: 8.999999999999978e-09\n",
      "k: 2, probability: 3.6449999999999943e-07\n",
      "k: 3, probability: 8.747999999999991e-06\n",
      "k: 4, probability: 0.00013778099999999974\n",
      "k: 5, probability: 0.0014880347999999982\n",
      "k: 6, probability: 0.011160260999999996\n",
      "k: 7, probability: 0.05739562799999997\n",
      "k: 8, probability: 0.1937102444999998\n",
      "k: 9, probability: 0.38742048899999976\n",
      "k: 10, probability: 0.3486784401000001\n"
     ]
    }
   ],
   "source": [
    "n = 10\n",
    "p = .9\n",
    "\n",
    "for k in range(n+1):\n",
    "    probabilty = binom.pmf(k,n,p)\n",
    "    print(f\"k: {k}, probability: {probabilty}\")\n"
   ]
  },
  {
   "cell_type": "markdown",
   "metadata": {},
   "source": [
    "## Beta Distribution"
   ]
  }
 ],
 "metadata": {
  "kernelspec": {
   "display_name": "ai",
   "language": "python",
   "name": "python3"
  },
  "language_info": {
   "codemirror_mode": {
    "name": "ipython",
    "version": 3
   },
   "file_extension": ".py",
   "mimetype": "text/x-python",
   "name": "python",
   "nbconvert_exporter": "python",
   "pygments_lexer": "ipython3",
   "version": "3.12.4"
  }
 },
 "nbformat": 4,
 "nbformat_minor": 2
}
