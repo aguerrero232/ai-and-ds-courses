{
 "cells": [
  {
   "cell_type": "markdown",
   "metadata": {},
   "source": [
    "# Chapter 2 - Probability"
   ]
  },
  {
   "cell_type": "markdown",
   "metadata": {
    "vscode": {
     "languageId": "plaintext"
    }
   },
   "source": [
    "*Probability* is how strongly we believe an event will happen, often expressed as a\n",
    "percentage. **Remember** that probability is about quantifying predictions of events yet to happen, whereas\n",
    "likelihood is measuring the frequency of events that already occurred."
   ]
  },
  {
   "cell_type": "markdown",
   "metadata": {},
   "source": [
    "## Joint Probabilities\n",
    "\n",
    "Think of a joint probability as an AND operator. "
   ]
  },
  {
   "cell_type": "markdown",
   "metadata": {},
   "source": [
    "Rather than generate all possible combinations and counting the ones of interest to\n",
    "us, we can again use the multiplication as a shortcut to find the joint probability. This\n",
    "is known as the `product rule`"
   ]
  },
  {
   "cell_type": "markdown",
   "metadata": {},
   "source": [
    "P(A AND B) = P(A) X P(B)"
   ]
  },
  {
   "cell_type": "markdown",
   "metadata": {},
   "source": [
    "## Union Probabilities"
   ]
  },
  {
   "cell_type": "markdown",
   "metadata": {},
   "source": [
    "When we deal with OR operations with probabilities, this is known as a union\n",
    "probability."
   ]
  },
  {
   "cell_type": "markdown",
   "metadata": {},
   "source": [
    "P(A or B) = P(A) + P(B) - P(A and B) = P(A) + P(B) - (P(A) X P(B))"
   ]
  },
  {
   "cell_type": "markdown",
   "metadata": {},
   "source": [
    "## Conditional Probability and Bayes’ Theorem"
   ]
  },
  {
   "cell_type": "markdown",
   "metadata": {},
   "source": [
    "Bayes’ Theorem = P (A|B) = (P(B|A) * P(A)) / P(B)"
   ]
  },
  {
   "cell_type": "markdown",
   "metadata": {},
   "source": [
    "Example using Bayes’ Theorem in Python"
   ]
  },
  {
   "cell_type": "code",
   "execution_count": 2,
   "metadata": {},
   "outputs": [
    {
     "name": "stdout",
     "output_type": "stream",
     "text": [
      "0.006538461538461539\n"
     ]
    }
   ],
   "source": [
    "p_coffee_drinker = .65\n",
    "p_cancer = .005\n",
    "p_coffee_drinker_given_cancer = .85\n",
    "p_cancer_given_coffee_drinker = (p_coffee_drinker_given_cancer * p_cancer) / p_coffee_drinker\n",
    "# prints 0.006538461538461539\n",
    "print(p_cancer_given_coffee_drinker)"
   ]
  },
  {
   "cell_type": "markdown",
   "metadata": {},
   "source": [
    "# Binomial Distribution"
   ]
  },
  {
   "cell_type": "markdown",
   "metadata": {},
   "source": [
    "Measures how likely k successes can happen out of n trials given p probability."
   ]
  },
  {
   "cell_type": "markdown",
   "metadata": {},
   "source": [
    "### Example Using SciPy for the binomial distribution"
   ]
  },
  {
   "cell_type": "code",
   "execution_count": 3,
   "metadata": {},
   "outputs": [],
   "source": [
    "from scipy.stats import binom"
   ]
  },
  {
   "cell_type": "code",
   "execution_count": 4,
   "metadata": {},
   "outputs": [
    {
     "name": "stdout",
     "output_type": "stream",
     "text": [
      "k: 0, probability: 9.999999999999977e-11\n",
      "k: 1, probability: 8.999999999999978e-09\n",
      "k: 2, probability: 3.6449999999999943e-07\n",
      "k: 3, probability: 8.747999999999991e-06\n",
      "k: 4, probability: 0.00013778099999999974\n",
      "k: 5, probability: 0.0014880347999999982\n",
      "k: 6, probability: 0.011160260999999996\n",
      "k: 7, probability: 0.05739562799999997\n",
      "k: 8, probability: 0.1937102444999998\n",
      "k: 9, probability: 0.38742048899999976\n",
      "k: 10, probability: 0.3486784401000001\n"
     ]
    }
   ],
   "source": [
    "n = 10\n",
    "p = .9\n",
    "\n",
    "for k in range(n+1):\n",
    "    probabilty = binom.pmf(k,n,p)\n",
    "    print(f\"k: {k}, probability: {probabilty}\")\n"
   ]
  },
  {
   "cell_type": "markdown",
   "metadata": {},
   "source": [
    "## Beta Distribution"
   ]
  },
  {
   "cell_type": "markdown",
   "metadata": {},
   "source": [
    "The beta distribution is a type of probability distribution, which means the area under\n",
    "the entire curve is 1.0, or 100%. To find a probability, we need to find the area within\n",
    "a range. For example, if we want to evaluate the probability 8/10 successes would\n",
    "yield 90% or higher success rate, we need to find the area between 0.9 and 1.0"
   ]
  },
  {
   "cell_type": "markdown",
   "metadata": {},
   "source": [
    "We can use SciPy to implement the beta dis‐\n",
    "tribution. Every continuous probability distribution has a cumulative density function\n",
    "(CDF), which calculates the area up to a given x-value. "
   ]
  },
  {
   "cell_type": "code",
   "execution_count": 5,
   "metadata": {},
   "outputs": [],
   "source": [
    "from scipy.stats import beta"
   ]
  },
  {
   "cell_type": "code",
   "execution_count": 6,
   "metadata": {},
   "outputs": [],
   "source": [
    "# Calculating the area up to 90% (0.0 to 0.90)\n",
    "a = 8\n",
    "b = 2\n",
    "\n",
    "p = beta.cdf(.9, a, b)"
   ]
  },
  {
   "cell_type": "code",
   "execution_count": 7,
   "metadata": {},
   "outputs": [
    {
     "name": "stdout",
     "output_type": "stream",
     "text": [
      "0.7748409780000002\n"
     ]
    }
   ],
   "source": [
    "print(p)"
   ]
  },
  {
   "cell_type": "markdown",
   "metadata": {},
   "source": [
    "So according to our calculation, there is a 77.48% chance the underlying probability\n",
    "of success is 90% or less."
   ]
  },
  {
   "cell_type": "markdown",
   "metadata": {},
   "source": [
    "How do we calculate the probability of success being 90% or more"
   ]
  },
  {
   "cell_type": "code",
   "execution_count": 8,
   "metadata": {},
   "outputs": [],
   "source": [
    "a = 8\n",
    "b = 2\n",
    "p = 1 - beta.cdf(.9, a, b)"
   ]
  },
  {
   "cell_type": "code",
   "execution_count": 9,
   "metadata": {},
   "outputs": [
    {
     "name": "stdout",
     "output_type": "stream",
     "text": [
      "0.22515902199999982\n"
     ]
    }
   ],
   "source": [
    "print(p)"
   ]
  },
  {
   "cell_type": "markdown",
   "metadata": {},
   "source": [
    "This means that out of 8/10 successful engine tests, there is only a 22.5% chance the\n",
    "underlying success rate is 90% or greater. "
   ]
  },
  {
   "cell_type": "markdown",
   "metadata": {},
   "source": [
    "### A beta distribution with more trials"
   ]
  },
  {
   "cell_type": "code",
   "execution_count": 10,
   "metadata": {},
   "outputs": [
    {
     "name": "stdout",
     "output_type": "stream",
     "text": [
      "0.13163577484183697\n"
     ]
    }
   ],
   "source": [
    "a = 30\n",
    "b = 6\n",
    "\n",
    "p = 1 - beta.cdf(.9, a, b)\n",
    "print(p)"
   ]
  },
  {
   "cell_type": "markdown",
   "metadata": {},
   "source": [
    "Our probability of meeting our 90% success rate minimum has decreased, going from 22.5% to 13.16%"
   ]
  },
  {
   "cell_type": "markdown",
   "metadata": {},
   "source": [
    "### What if I want to find the probability my underlying rate of success is between 80% and 90%"
   ]
  },
  {
   "cell_type": "code",
   "execution_count": 11,
   "metadata": {},
   "outputs": [
    {
     "name": "stdout",
     "output_type": "stream",
     "text": [
      "0.33863336199999994\n"
     ]
    }
   ],
   "source": [
    "a = 8\n",
    "b = 2\n",
    "\n",
    "p = beta.cdf(.9, a, b) - beta.cdf(.8, a, b)\n",
    "print(p)"
   ]
  },
  {
   "cell_type": "markdown",
   "metadata": {},
   "source": [
    "The beta distribution is a fascinating tool to measure the probability of an event\n",
    "occurring versus not occurring, based on a limited set of observations. It allows us to\n",
    "reason about probabilities of probabilities, and we can update it as we get new data."
   ]
  },
  {
   "cell_type": "markdown",
   "metadata": {},
   "source": [
    "## Excercises"
   ]
  },
  {
   "cell_type": "markdown",
   "metadata": {},
   "source": [
    "1. There is a 30% chance of rain today, and a 40% chance your umbrella order will arrive on time. You are eager to walk in the rain today and cannot do so without either! What is the probability it will rain AND your umbrella will arrive?\n",
    "\n",
    "2. There is a 30% chance of rain today, and a 40% chance your umbrella order will arrive on time. You will be able to run errands only if it does not rain or your umbrella arrives. What is the probability it will not rain OR your umbrella arrives?\n",
    "\n",
    "3. There is a 30% chance of rain today, and a 40% chance your umbrella order will arrive on time. However, you found out if it rains there is only a 20% chance your umbrella will arrive on time. What is the probability it will rain AND your umbrella will arrive on time?\n",
    "\n",
    "4. You have 137 passengers booked on a flight from Las Vegas to Dallas. However, it is Las Vegas on a Sunday morning and you estimate each passenger is 40% likely to not show up. You are trying to figure out how many seats to overbook so the plane does not fly empty. How likely is it at least 50 passengers will not show up?\n",
    "\n",
    "5. You flipped a coin 19 times and got heads 15 times and tails 4 times. Do you think this coin has any good probability of being fair? Why or why not?"
   ]
  },
  {
   "cell_type": "code",
   "execution_count": 17,
   "metadata": {},
   "outputs": [
    {
     "name": "stdout",
     "output_type": "stream",
     "text": [
      "0.12\n",
      "0.82\n",
      "0.06\n",
      "0.8220955881474251\n",
      "I do not think this coin has a good probability (0.0037689208984375) of being fair (just like master duel >:c)\n"
     ]
    }
   ],
   "source": [
    "# 1.\n",
    "chance_of_rain = .3\n",
    "chance_umbrella_arrives_on_time = .4\n",
    "\n",
    "chance_both = chance_of_rain * chance_umbrella_arrives_on_time\n",
    "print(chance_both)  # joint probability probability(A and B) = P(A) * P(B)\n",
    "\n",
    "# 2.\n",
    "chance_of_rain = .3\n",
    "chance_not_rain = 1 - .3\n",
    "chance_umbrella_arrives_on_time = .4\n",
    "\n",
    "chance_not_rain_or_umbrella = chance_not_rain + chance_umbrella_arrives_on_time - (chance_not_rain * chance_umbrella_arrives_on_time)\n",
    "print(round(chance_not_rain_or_umbrella, 2))  # union probability P(A or B) = P(A) + P(B) - P(A and B)\n",
    "\n",
    "# 3.\n",
    "chance_of_rain = .3 # P(A)\n",
    "chance_umbrella_arrives_on_time = .4 # P(B)\n",
    "chance_umbrella_arrives_on_time_given_rain = .2 # P(B|A)\n",
    "chance_rain_and_umbrella_on_time = chance_of_rain * chance_umbrella_arrives_on_time_given_rain # P(A and B)\n",
    "\n",
    "print(chance_rain_and_umbrella_on_time)  # joint conditional probability P(A and B) = P(A) * P(B|A)\n",
    "\n",
    "# 4.\n",
    "num_passengers = 137\n",
    "prob_no_show = .4\n",
    "# at least 50 no show (aka successes), num passengers (aka trials), probability of no show\n",
    "prob_at_least_fifty_no_show = sum(binom.pmf(k, num_passengers, prob_no_show) for k in range(50, num_passengers))\n",
    "print(prob_at_least_fifty_no_show) # Binomial Distribution \n",
    "\n",
    "# 5.\n",
    "coin_flips = 19\n",
    "num_heads = 15\n",
    "num_tails = 4\n",
    "\n",
    "p = beta.cdf(.5, num_heads, num_tails)\n",
    "print(f\"I do not think this coin has a good probability ({p}) of being fair (just like master duel >:c)\")\n"
   ]
  },
  {
   "cell_type": "markdown",
   "metadata": {},
   "source": [
    "## Extra Credit"
   ]
  },
  {
   "cell_type": "markdown",
   "metadata": {},
   "source": [
    "There is a 25% chance of snow today, and a 35% chance your package will arrive on time. However, if it snows, there is only a 15% chance your package will arrive on time.\n",
    "\n",
    "What is the probability it will snow AND your package will arrive on time?"
   ]
  },
  {
   "cell_type": "code",
   "execution_count": 16,
   "metadata": {},
   "outputs": [],
   "source": [
    "p_snow = .25 # P(A)\n",
    "p_package_on_time = .35 # P(B)\n",
    "p_snow_and_package = .15 # P(B | A)\n",
    "\n",
    "p_snow_and_package_on_time = p_snow * p_snow_and_package # P(A and B)\n",
    "print(p_snow_and_package_on_time)"
   ]
  }
 ],
 "metadata": {
  "kernelspec": {
   "display_name": "ai",
   "language": "python",
   "name": "python3"
  },
  "language_info": {
   "codemirror_mode": {
    "name": "ipython",
    "version": 3
   },
   "file_extension": ".py",
   "mimetype": "text/x-python",
   "name": "python",
   "nbconvert_exporter": "python",
   "pygments_lexer": "ipython3",
   "version": "3.12.4"
  }
 },
 "nbformat": 4,
 "nbformat_minor": 2
}
