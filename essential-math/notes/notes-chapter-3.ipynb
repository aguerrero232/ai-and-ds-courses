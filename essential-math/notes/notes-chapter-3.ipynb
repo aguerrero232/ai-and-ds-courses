{
 "cells": [
  {
   "cell_type": "markdown",
   "metadata": {},
   "source": [
    "# Chapter 3 - Descriptive and Inferential Statistics"
   ]
  },
  {
   "cell_type": "markdown",
   "metadata": {},
   "source": [
    "Statistics is the heart of many data-driven innovations. Machine learning in itself is a statistical tool, searching for possible hypotheses\n",
    "to correlate relationships between different variables in data."
   ]
  },
  {
   "cell_type": "markdown",
   "metadata": {},
   "source": [
    "## What Is Data?"
   ]
  },
  {
   "cell_type": "markdown",
   "metadata": {},
   "source": [
    "The source of not just truth…but intelligence! It’s the fuel for artificial intelligence\n",
    "and it is believed that the more data you have, the more truth you have. Therefore,\n",
    "you can never have enough data. Data is not important in itself. It’s the\n",
    "analysis of data (and how it is produced) that is the driver of all these innovations and\n",
    "solutions."
   ]
  },
  {
   "cell_type": "markdown",
   "metadata": {},
   "source": [
    "Always ask questions about how the data was obtained, and then scrutinize\n",
    "how that process could have biased the data"
   ]
  },
  {
   "cell_type": "markdown",
   "metadata": {},
   "source": [
    "## Descriptive Statistics"
   ]
  },
  {
   "cell_type": "markdown",
   "metadata": {},
   "source": [
    "### Mean and Weighted Mean"
   ]
  },
  {
   "cell_type": "markdown",
   "metadata": {},
   "source": [
    "The mean is the average of a set of values. The operation is simple to do: sum the\n",
    "values and divide by the number of values. The mean is useful because it shows where\n",
    "the “center of gravity” exists for an observed set of values.\n",
    "The mean is calculated the same way for both populations and samples"
   ]
  },
  {
   "cell_type": "markdown",
   "metadata": {},
   "source": [
    "### Means"
   ]
  },
  {
   "cell_type": "markdown",
   "metadata": {},
   "source": [
    "#### Calculating mean in Python"
   ]
  },
  {
   "cell_type": "code",
   "execution_count": 1,
   "metadata": {},
   "outputs": [
    {
     "name": "stdout",
     "output_type": "stream",
     "text": [
      "2.875\n"
     ]
    }
   ],
   "source": [
    "samples = [1, 3, 2, 5, 0, 7, 2, 3]\n",
    "\n",
    "mean = sum(samples) / len(samples)\n",
    "print(mean)  # 2.875"
   ]
  },
  {
   "cell_type": "markdown",
   "metadata": {},
   "source": [
    "There are two versions of the mean you will see: the sample mean $\\tilde{x}$ and the population mean μ as expressed here\n",
    "\n",
    "$\\tilde{x}$ = $\\frac{x_1 + x_2 + x_3 + ... x_n}{n}$ = $\\displaystyle\\sum_{}$ $\\frac{x_i}{n}$\n",
    "\n",
    "μ = $\\frac{x_1 + x_2 + x_3 + ... x_n}{N}$ = $\\displaystyle\\sum_{}$ $\\frac{x_i}{N}$"
   ]
  },
  {
   "cell_type": "markdown",
   "metadata": {},
   "source": [
    "The ***n*** and the ***N*** represent the sample and population size, respectively, but mathematically they\n",
    "represent the same thing: the number of items. "
   ]
  },
  {
   "cell_type": "markdown",
   "metadata": {},
   "source": [
    "The same goes for calling the sample mean $\\tilde{x}$ (“x-bar”) and the population mean μ (“mu”). Both x and μ are the same calculation, just different names depending on whether it’s a sample or population we are working with."
   ]
  },
  {
   "cell_type": "markdown",
   "metadata": {},
   "source": [
    "The mean we commonly use gives equal importance to each value. But we can manipulate the mean and give each item a different weight\n",
    "\n",
    "weighted mean =  $\\frac{(x_1 * w_1) + (x_2 * w_2) + (x_3 * w_3) + ... (x_n * w_n)}{w_1 + w_2 + w_3 + ... w_n}$"
   ]
  },
  {
   "cell_type": "markdown",
   "metadata": {},
   "source": [
    "Calculating a weighted mean in Python"
   ]
  },
  {
   "cell_type": "code",
   "execution_count": 2,
   "metadata": {},
   "outputs": [
    {
     "name": "stdout",
     "output_type": "stream",
     "text": [
      "81.4\n"
     ]
    }
   ],
   "source": [
    "# Three exams of .20 weight each and final exam of .40 weight\n",
    "sample = [90, 80, 63, 87]\n",
    "weights = [0.2, 0.2, 0.2, 0.4]\n",
    "\n",
    "weighted_mean = sum(s * w for s, w in zip(sample, weights)) / sum(weights)\n",
    "\n",
    "print(weighted_mean)"
   ]
  },
  {
   "cell_type": "markdown",
   "metadata": {},
   "source": [
    "We weight each exam score through multiplication accordingly and instead of dividing by the value count, we divide by the sum of weights. Weightings don’t have to be percentages, as any numbers used for weights will end up being proportionalized"
   ]
  },
  {
   "cell_type": "code",
   "execution_count": 1,
   "metadata": {},
   "outputs": [
    {
     "name": "stdout",
     "output_type": "stream",
     "text": [
      "81.4\n"
     ]
    }
   ],
   "source": [
    "# Calculating a weighted mean in Python (alt example)\n",
    "sample = [90, 80, 63, 87]\n",
    "weights = [1.0, 1.0, 1.0, 2.0]\n",
    "\n",
    "weighted_mean = sum(s * w for s, w in zip(sample, weights)) / sum(weights)\n",
    "\n",
    "print(weighted_mean)  # 81.4"
   ]
  },
  {
   "cell_type": "markdown",
   "metadata": {},
   "source": [
    "#### Median"
   ]
  },
  {
   "cell_type": "markdown",
   "metadata": {},
   "source": [
    "The ***median*** is the middlemost value in a set of ordered values"
   ]
  },
  {
   "cell_type": "code",
   "execution_count": 7,
   "metadata": {},
   "outputs": [
    {
     "name": "stdout",
     "output_type": "stream",
     "text": [
      "7\n"
     ]
    }
   ],
   "source": [
    "# calculating the median in Python\n",
    "\n",
    "def median(vals: list[int]) -> int:\n",
    "    ordered_vals = sorted(vals)\n",
    "    length = len(vals)\n",
    "    middle = length // 2 - 1 if length % 2 == 0 else length // 2\n",
    "    return (\n",
    "        (ordered_vals[middle] + ordered_vals[middle + 1]) / 2.0\n",
    "        if length % 2 == 0\n",
    "        else ordered_vals[middle]\n",
    "    )\n",
    "\n",
    "\n",
    "samples = [0, 1, 5, 7, 9, 10, 14]\n",
    "print(median(samples))"
   ]
  },
  {
   "cell_type": "markdown",
   "metadata": {},
   "source": [
    "#### Mode"
   ]
  },
  {
   "cell_type": "markdown",
   "metadata": {},
   "source": [
    "The mode is the most frequently occurring set of value."
   ]
  },
  {
   "cell_type": "code",
   "execution_count": 14,
   "metadata": {},
   "outputs": [
    {
     "name": "stdout",
     "output_type": "stream",
     "text": [
      "[2, 3]\n"
     ]
    }
   ],
   "source": [
    "# Calculating the mode in python\n",
    "from collections import defaultdict\n",
    "def mode(vals: list[int]) -> list[int]:\n",
    "    counts = defaultdict(lambda: 0)\n",
    "    for s in vals:\n",
    "        counts[s] += 1\n",
    "    max_count = max(counts.values())\n",
    "    return [v for v in set(vals) if counts[v] == max_count]\n",
    "\n",
    "\n",
    "samples = [1,3,2,5,7,0,2,3]\n",
    "print(mode(samples)) # bimodal -> [2, 3]    \n",
    "    "
   ]
  },
  {
   "cell_type": "markdown",
   "metadata": {},
   "source": [
    "#### Variance and Standard Deviation"
   ]
  },
  {
   "cell_type": "markdown",
   "metadata": {},
   "source": [
    "variance (population): $\\frac{(x_1 - mean)^2 + (x_2 - mean)^2 + ... + (x_n - mean)^2}{N}$\n",
    "\n",
    "more formally the variance is:\n",
    "$σ^2$ = $\\displaystyle\\sum_{}$ $\\frac{(x_i - μ)^2}{N}$"
   ]
  },
  {
   "cell_type": "code",
   "execution_count": 15,
   "metadata": {},
   "outputs": [
    {
     "name": "stdout",
     "output_type": "stream",
     "text": [
      "21.387755102040817\n"
     ]
    }
   ],
   "source": [
    "# calculating population variance in Python\n",
    "def variance(vals: list[int]) -> float:\n",
    "    mean = sum(vals) / len(vals)\n",
    "    return sum((v-mean)**2 for v in vals) / len(vals) \n",
    "\n",
    "data = [0,1,5,7,9,10,14]\n",
    "print(variance(data)) # 21.387755102040817    "
   ]
  },
  {
   "cell_type": "markdown",
   "metadata": {},
   "source": [
    "standard deviation (population): $\\sqrt{\\frac{(x_1 - mean)^2 + (x_2 - mean)^2 + ... + (x_n - mean)^2}{N}}$\n",
    "\n",
    "more formally the standard deviation is:\n",
    "$σ$ = $\\sqrt{\\frac{\\displaystyle\\sum_{}(x_i - μ)^2}{N}}$"
   ]
  },
  {
   "cell_type": "code",
   "execution_count": 18,
   "metadata": {},
   "outputs": [
    {
     "name": "stdout",
     "output_type": "stream",
     "text": [
      "4.624689730353899\n"
     ]
    }
   ],
   "source": [
    "# Calculating standard deviation in Python\n",
    "from math import sqrt\n",
    "def standard_deviation(vals: list[int]) -> float:\n",
    "    return sqrt(variance(vals))\n",
    "\n",
    "data = [0,1,5,7,9,10,14]\n",
    "print(standard_deviation(data)) # 4.624689730353899"
   ]
  },
  {
   "cell_type": "markdown",
   "metadata": {},
   "source": [
    "Sample Variance and Standard Deviation\n",
    "\n",
    "$s^2$ = $\\frac{\\displaystyle\\sum_{}(x_i - \\tilde{x})^2}{n-1}$\n",
    "\n",
    "s = $\\sqrt{\\frac{\\displaystyle\\sum_{}(x_i - \\tilde{x})^2}{n-1}}$"
   ]
  },
  {
   "cell_type": "code",
   "execution_count": 20,
   "metadata": {},
   "outputs": [
    {
     "name": "stdout",
     "output_type": "stream",
     "text": [
      "24.952380952380953\n",
      "4.995235825502231\n"
     ]
    }
   ],
   "source": [
    "# Calculating standard deviation for a sample\n",
    "from math import sqrt\n",
    "# Number of pets each person owns\n",
    "data = [0, 1, 5, 7, 9, 10, 14]\n",
    "\n",
    "def sample_variance(vals: list[int]) -> float:\n",
    "    mean = sum(vals) / len(vals)  # sample mean\n",
    "    return sum((v-mean)**2 for v in vals) / (len(vals) - 1)\n",
    "\n",
    "def sample_standard_deviation(vals: list[int]) -> float:\n",
    "    return sqrt(sample_variance(vals))\n",
    "\n",
    "print(sample_variance(data)) # 24.952380952380953\n",
    "print(sample_standard_deviation(data)) # 4.995235825502231"
   ]
  },
  {
   "cell_type": "markdown",
   "metadata": {},
   "source": [
    "#### The Normal Distribution"
   ]
  }
 ],
 "metadata": {
  "kernelspec": {
   "display_name": "ai",
   "language": "python",
   "name": "python3"
  },
  "language_info": {
   "codemirror_mode": {
    "name": "ipython",
    "version": 3
   },
   "file_extension": ".py",
   "mimetype": "text/x-python",
   "name": "python",
   "nbconvert_exporter": "python",
   "pygments_lexer": "ipython3",
   "version": "3.12.4"
  }
 },
 "nbformat": 4,
 "nbformat_minor": 2
}
