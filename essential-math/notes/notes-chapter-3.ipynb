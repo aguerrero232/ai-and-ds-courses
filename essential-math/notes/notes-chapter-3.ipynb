{
 "cells": [
  {
   "cell_type": "markdown",
   "metadata": {},
   "source": [
    "# Chapter 3 - Descriptive and Inferential Statistics"
   ]
  },
  {
   "cell_type": "markdown",
   "metadata": {},
   "source": [
    "Statistics is the heart of many data-driven innovations. Machine learning in itself is a statistical tool, searching for possible hypotheses\n",
    "to correlate relationships between different variables in data."
   ]
  },
  {
   "cell_type": "markdown",
   "metadata": {},
   "source": [
    "## What Is Data?"
   ]
  },
  {
   "cell_type": "markdown",
   "metadata": {},
   "source": [
    "The source of not just truth…but intelligence! It’s the fuel for artificial intelligence\n",
    "and it is believed that the more data you have, the more truth you have. Therefore,\n",
    "you can never have enough data. Data is not important in itself. It’s the\n",
    "analysis of data (and how it is produced) that is the driver of all these innovations and\n",
    "solutions."
   ]
  },
  {
   "cell_type": "markdown",
   "metadata": {},
   "source": [
    "Always ask questions about how the data was obtained, and then scrutinize\n",
    "how that process could have biased the data"
   ]
  },
  {
   "cell_type": "markdown",
   "metadata": {},
   "source": [
    "## Descriptive Statistics"
   ]
  },
  {
   "cell_type": "markdown",
   "metadata": {},
   "source": [
    "### Mean and Weighted Mean"
   ]
  },
  {
   "cell_type": "markdown",
   "metadata": {},
   "source": [
    "The mean is the average of a set of values. The operation is simple to do: sum the\n",
    "values and divide by the number of values. The mean is useful because it shows where\n",
    "the “center of gravity” exists for an observed set of values.\n",
    "The mean is calculated the same way for both populations and samples"
   ]
  },
  {
   "cell_type": "markdown",
   "metadata": {},
   "source": [
    "#### Calculating mean in Python"
   ]
  },
  {
   "cell_type": "code",
   "execution_count": 1,
   "metadata": {},
   "outputs": [
    {
     "name": "stdout",
     "output_type": "stream",
     "text": [
      "2.875\n"
     ]
    }
   ],
   "source": [
    "samples = [1, 3, 2, 5, 0, 7, 2, 3]\n",
    "\n",
    "mean = sum(samples) / len(samples)\n",
    "print(mean)  # 2.875"
   ]
  },
  {
   "cell_type": "markdown",
   "metadata": {},
   "source": [
    "There are two versions of the mean you will see: the sample mean $\\tilde{x}$ and the population mean μ as expressed here\n",
    "\n",
    "$\\tilde{x}$ = $\\frac{x_1 + x_2 + x_3 + ... x_n}{n}$ = $\\displaystyle\\sum_{}$ $\\frac{x_i}{n}$\n",
    "\n",
    "μ = $\\frac{x_1 + x_2 + x_3 + ... x_n}{N}$ = $\\displaystyle\\sum_{}$ $\\frac{x_i}{N}$"
   ]
  },
  {
   "cell_type": "markdown",
   "metadata": {},
   "source": [
    "The ***n*** and the ***N*** represent the sample and population size, respectively, but mathematically they\n",
    "represent the same thing: the number of items. "
   ]
  },
  {
   "cell_type": "markdown",
   "metadata": {},
   "source": [
    "The same goes for calling the sample mean $\\tilde{x}$ (“x-bar”) and the population mean μ (“mu”). Both x and μ are the same calculation, just different names depending on whether it’s a sample or population we are working with."
   ]
  },
  {
   "cell_type": "markdown",
   "metadata": {},
   "source": [
    "The mean we commonly use gives equal importance to each value. But we can manipulate the mean and give each item a different weight\n",
    "\n",
    "weighted mean =  $\\frac{(x_1 * w_1) + (x_2 * w_2) + (x_3 * w_3) + ... (x_n * w_n)}{w_1 + w_2 + w_3 + ... w_n}$"
   ]
  },
  {
   "cell_type": "markdown",
   "metadata": {},
   "source": [
    "Calculating a weighted mean in Python"
   ]
  },
  {
   "cell_type": "code",
   "execution_count": 2,
   "metadata": {},
   "outputs": [
    {
     "name": "stdout",
     "output_type": "stream",
     "text": [
      "81.4\n"
     ]
    }
   ],
   "source": [
    "# Three exams of .20 weight each and final exam of .40 weight\n",
    "sample = [90, 80, 63, 87]\n",
    "weights = [.2, .2, .2, .4]\n",
    "\n",
    "weighted_mean = sum(s*w for s,w in zip(sample, weights)) / sum(weights)\n",
    "\n",
    "print(weighted_mean)"
   ]
  }
 ],
 "metadata": {
  "kernelspec": {
   "display_name": "ai",
   "language": "python",
   "name": "python3"
  },
  "language_info": {
   "codemirror_mode": {
    "name": "ipython",
    "version": 3
   },
   "file_extension": ".py",
   "mimetype": "text/x-python",
   "name": "python",
   "nbconvert_exporter": "python",
   "pygments_lexer": "ipython3",
   "version": "3.12.4"
  }
 },
 "nbformat": 4,
 "nbformat_minor": 2
}
