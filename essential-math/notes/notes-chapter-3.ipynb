{
 "cells": [
  {
   "cell_type": "markdown",
   "metadata": {},
   "source": [
    "# Chapter 3 - Descriptive and Inferential Statistics"
   ]
  },
  {
   "cell_type": "markdown",
   "metadata": {},
   "source": [
    "Statistics is the heart of many data-driven innovations. Machine learning in itself is a statistical tool, searching for possible hypotheses\n",
    "to correlate relationships between different variables in data."
   ]
  },
  {
   "cell_type": "markdown",
   "metadata": {},
   "source": [
    "## What Is Data?"
   ]
  },
  {
   "cell_type": "markdown",
   "metadata": {},
   "source": [
    "The source of not just truth…but intelligence! It’s the fuel for artificial intelligence\n",
    "and it is believed that the more data you have, the more truth you have. Therefore,\n",
    "you can never have enough data. Data is not important in itself. It’s the\n",
    "analysis of data (and how it is produced) that is the driver of all these innovations and\n",
    "solutions."
   ]
  },
  {
   "cell_type": "markdown",
   "metadata": {},
   "source": [
    "Always ask questions about how the data was obtained, and then scrutinize\n",
    "how that process could have biased the data"
   ]
  },
  {
   "cell_type": "markdown",
   "metadata": {},
   "source": [
    "## Descriptive Statistics"
   ]
  },
  {
   "cell_type": "markdown",
   "metadata": {},
   "source": [
    "### Mean and Weighted Mean"
   ]
  },
  {
   "cell_type": "markdown",
   "metadata": {},
   "source": [
    "The mean is the average of a set of values. The operation is simple to do: sum the\n",
    "values and divide by the number of values. The mean is useful because it shows where\n",
    "the “center of gravity” exists for an observed set of values.\n",
    "The mean is calculated the same way for both populations and samples"
   ]
  },
  {
   "cell_type": "markdown",
   "metadata": {},
   "source": [
    "#### Calculating mean in Python"
   ]
  },
  {
   "cell_type": "code",
   "execution_count": 1,
   "metadata": {},
   "outputs": [
    {
     "name": "stdout",
     "output_type": "stream",
     "text": [
      "2.875\n"
     ]
    }
   ],
   "source": [
    "samples = [1, 3, 2, 5, 0, 7, 2, 3]\n",
    "\n",
    "mean = sum(samples) / len(samples)\n",
    "print(mean)  # 2.875"
   ]
  }
 ],
 "metadata": {
  "kernelspec": {
   "display_name": "ai",
   "language": "python",
   "name": "python3"
  },
  "language_info": {
   "codemirror_mode": {
    "name": "ipython",
    "version": 3
   },
   "file_extension": ".py",
   "mimetype": "text/x-python",
   "name": "python",
   "nbconvert_exporter": "python",
   "pygments_lexer": "ipython3",
   "version": "3.12.4"
  }
 },
 "nbformat": 4,
 "nbformat_minor": 2
}
